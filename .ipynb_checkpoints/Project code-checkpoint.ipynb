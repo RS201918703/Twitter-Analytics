{
 "cells": [
  {
   "cell_type": "markdown",
   "id": "844e6713",
   "metadata": {},
   "source": [
    "First, we will call the list of tweets for this academic year for each LSE department."
   ]
  },
  {
   "cell_type": "code",
   "execution_count": 1,
   "id": "87bd7bef",
   "metadata": {},
   "outputs": [],
   "source": [
    "from bs4 import BeautifulSoup\n",
    "import requests\n",
    "import json"
   ]
  },
  {
   "cell_type": "code",
   "execution_count": 2,
   "id": "c61355a1",
   "metadata": {},
   "outputs": [],
   "source": [
    "url = \"https://info.lse.ac.uk/staff/departments-and-institutes\"\n",
    "response = requests.get(url)\n",
    "soup = BeautifulSoup(response.content, \"lxml\")"
   ]
  },
  {
   "cell_type": "code",
   "execution_count": 3,
   "id": "4b79dbd6",
   "metadata": {},
   "outputs": [],
   "source": [
    "raw_list = soup.find_all('ul')"
   ]
  },
  {
   "cell_type": "code",
   "execution_count": 4,
   "id": "d0547a0e",
   "metadata": {},
   "outputs": [],
   "source": [
    "dept = []\n",
    "\n",
    "for tag in raw_list:\n",
    "    list_el = tag.text.strip()\n",
    "    dept.append(list_el)"
   ]
  },
  {
   "cell_type": "code",
   "execution_count": 5,
   "id": "2643045b",
   "metadata": {},
   "outputs": [
    {
     "data": {
      "text/plain": [
       "['Department of Accounting\\nDepartment of Anthropology\\nData Science Institute\\nDepartment of Economics\\nDepartment of Economic History\\nEuropean Institute\\nDepartment of Finance\\nFiroz Lalji Institute for Africa\\nDepartment of Gender Studies\\nDepartment of Geography and Environment\\nDepartment of Government\\nDepartment of Health Policy\\nDepartment of International Development\\nDepartment of International History\\nInternational Inequalities Institute\\nDepartment of International Relations\\nLanguage Centre\\nLSE Law School\\nDepartment of Management\\nMarshall Institute\\nDepartment of Mathematics\\nDepartment of Media and Communications\\nDepartment of Methodology\\nDepartment of Philosophy, Logic and Scientific Method\\nDepartment of Psychological and Behavioural Science\\nSchool of Public Policy (formerly Institute of Public Affairs)\\nDepartment of Social Policy\\nDepartment of Sociology\\nDepartment of Statistics']"
      ]
     },
     "execution_count": 5,
     "metadata": {},
     "output_type": "execute_result"
    }
   ],
   "source": [
    "depts = dept[2:]\n",
    "depts"
   ]
  },
  {
   "cell_type": "code",
   "execution_count": 6,
   "id": "3676166a",
   "metadata": {},
   "outputs": [
    {
     "data": {
      "text/plain": [
       "['Department of Accounting',\n",
       " 'Department of Anthropology',\n",
       " 'Data Science Institute',\n",
       " 'Department of Economics',\n",
       " 'Department of Economic History',\n",
       " 'European Institute',\n",
       " 'Department of Finance',\n",
       " 'Firoz Lalji Institute for Africa',\n",
       " 'Department of Gender Studies',\n",
       " 'Department of Geography and Environment',\n",
       " 'Department of Government',\n",
       " 'Department of Health Policy',\n",
       " 'Department of International Development',\n",
       " 'Department of International History',\n",
       " 'International Inequalities Institute',\n",
       " 'Department of International Relations',\n",
       " 'Language Centre',\n",
       " 'LSE Law School',\n",
       " 'Department of Management',\n",
       " 'Marshall Institute',\n",
       " 'Department of Mathematics',\n",
       " 'Department of Media and Communications',\n",
       " 'Department of Methodology',\n",
       " 'Department of Philosophy, Logic and Scientific Method',\n",
       " 'Department of Psychological and Behavioural Science',\n",
       " 'School of Public Policy (formerly Institute of Public Affairs)',\n",
       " 'Department of Social Policy',\n",
       " 'Department of Sociology',\n",
       " 'Department of Statistics']"
      ]
     },
     "execution_count": 6,
     "metadata": {},
     "output_type": "execute_result"
    }
   ],
   "source": [
    "dept_list = depts[0].split(\"\\n\")\n",
    "dept_list"
   ]
  },
  {
   "cell_type": "code",
   "execution_count": 7,
   "id": "12dd2608",
   "metadata": {},
   "outputs": [],
   "source": [
    "#Remove all elements in the list with the word Institute as we are looking only at Departments\n",
    "indices = [dept_list.index(\"Data Science Institute\"), dept_list.index(\"European Institute\"), \n",
    "           dept_list.index(\"Firoz Lalji Institute for Africa\"), dept_list.index(\"International Inequalities Institute\"),\n",
    "           dept_list.index(\"Marshall Institute\"), \n",
    "           dept_list.index(\"School of Public Policy (formerly Institute of Public Affairs)\")]"
   ]
  },
  {
   "cell_type": "code",
   "execution_count": 8,
   "id": "423ae80d",
   "metadata": {},
   "outputs": [
    {
     "data": {
      "text/plain": [
       "['Department of Accounting',\n",
       " 'Department of Anthropology',\n",
       " 'Department of Economics',\n",
       " 'Department of Economic History',\n",
       " 'Department of Finance',\n",
       " 'Department of Gender Studies',\n",
       " 'Department of Geography and Environment',\n",
       " 'Department of Government',\n",
       " 'Department of Health Policy',\n",
       " 'Department of International Development',\n",
       " 'Department of International History',\n",
       " 'Department of International Relations',\n",
       " 'Language Centre',\n",
       " 'LSE Law School',\n",
       " 'Department of Management',\n",
       " 'Department of Mathematics',\n",
       " 'Department of Media and Communications',\n",
       " 'Department of Methodology',\n",
       " 'Department of Philosophy, Logic and Scientific Method',\n",
       " 'Department of Psychological and Behavioural Science',\n",
       " 'Department of Social Policy',\n",
       " 'Department of Sociology',\n",
       " 'Department of Statistics']"
      ]
     },
     "execution_count": 8,
     "metadata": {},
     "output_type": "execute_result"
    }
   ],
   "source": [
    "dept_list = [i for j, i in enumerate(dept_list) if j not in indices]\n",
    "dept_list"
   ]
  },
  {
   "cell_type": "code",
   "execution_count": 9,
   "id": "0871bd31",
   "metadata": {},
   "outputs": [],
   "source": [
    "#There is no compiled list so I've added this in manually\n",
    "usernames = ['LSE_Accounting', 'LSEAnthropology', 'LSEEcon',\n",
    "            'LSEEcHist', 'LSEfinance', 'LSEGenderTweet', 'LSEGeography',\n",
    "            'LSEGovernment', 'LSEHealthPolicy', 'LSE_ID', 'lsehistory',\n",
    "            'LSEIRDept', 'lselangcentre', 'LSELaw', 'LSEManagement', 'LSEMaths',\n",
    "            'MediaLSE', 'MethodologyLSE', 'LSEPhilosophy', 'LSEBehavioural', \n",
    "            'LSESocialPolicy', 'LSEsociology', 'LSEStatistics']"
   ]
  },
  {
   "cell_type": "code",
   "execution_count": 10,
   "id": "69474022",
   "metadata": {},
   "outputs": [
    {
     "data": {
      "text/html": [
       "<div>\n",
       "<style scoped>\n",
       "    .dataframe tbody tr th:only-of-type {\n",
       "        vertical-align: middle;\n",
       "    }\n",
       "\n",
       "    .dataframe tbody tr th {\n",
       "        vertical-align: top;\n",
       "    }\n",
       "\n",
       "    .dataframe thead th {\n",
       "        text-align: right;\n",
       "    }\n",
       "</style>\n",
       "<table border=\"1\" class=\"dataframe\">\n",
       "  <thead>\n",
       "    <tr style=\"text-align: right;\">\n",
       "      <th></th>\n",
       "      <th>Department</th>\n",
       "      <th>Twitter username</th>\n",
       "    </tr>\n",
       "  </thead>\n",
       "  <tbody>\n",
       "    <tr>\n",
       "      <th>0</th>\n",
       "      <td>Accounting</td>\n",
       "      <td>LSE_Accounting</td>\n",
       "    </tr>\n",
       "    <tr>\n",
       "      <th>1</th>\n",
       "      <td>Anthropology</td>\n",
       "      <td>LSEAnthropology</td>\n",
       "    </tr>\n",
       "    <tr>\n",
       "      <th>2</th>\n",
       "      <td>Economics</td>\n",
       "      <td>LSEEcon</td>\n",
       "    </tr>\n",
       "    <tr>\n",
       "      <th>3</th>\n",
       "      <td>Economic History</td>\n",
       "      <td>LSEEcHist</td>\n",
       "    </tr>\n",
       "    <tr>\n",
       "      <th>4</th>\n",
       "      <td>Finance</td>\n",
       "      <td>LSEfinance</td>\n",
       "    </tr>\n",
       "    <tr>\n",
       "      <th>5</th>\n",
       "      <td>Gender Studies</td>\n",
       "      <td>LSEGenderTweet</td>\n",
       "    </tr>\n",
       "    <tr>\n",
       "      <th>6</th>\n",
       "      <td>Geography and Environment</td>\n",
       "      <td>LSEGeography</td>\n",
       "    </tr>\n",
       "    <tr>\n",
       "      <th>7</th>\n",
       "      <td>Government</td>\n",
       "      <td>LSEGovernment</td>\n",
       "    </tr>\n",
       "    <tr>\n",
       "      <th>8</th>\n",
       "      <td>Health Policy</td>\n",
       "      <td>LSEHealthPolicy</td>\n",
       "    </tr>\n",
       "    <tr>\n",
       "      <th>9</th>\n",
       "      <td>International Development</td>\n",
       "      <td>LSE_ID</td>\n",
       "    </tr>\n",
       "    <tr>\n",
       "      <th>10</th>\n",
       "      <td>International History</td>\n",
       "      <td>lsehistory</td>\n",
       "    </tr>\n",
       "    <tr>\n",
       "      <th>11</th>\n",
       "      <td>International Relations</td>\n",
       "      <td>LSEIRDept</td>\n",
       "    </tr>\n",
       "    <tr>\n",
       "      <th>12</th>\n",
       "      <td>Language Centre</td>\n",
       "      <td>lselangcentre</td>\n",
       "    </tr>\n",
       "    <tr>\n",
       "      <th>13</th>\n",
       "      <td>LSE Law School</td>\n",
       "      <td>LSELaw</td>\n",
       "    </tr>\n",
       "    <tr>\n",
       "      <th>14</th>\n",
       "      <td>Management</td>\n",
       "      <td>LSEManagement</td>\n",
       "    </tr>\n",
       "    <tr>\n",
       "      <th>15</th>\n",
       "      <td>Mathematics</td>\n",
       "      <td>LSEMaths</td>\n",
       "    </tr>\n",
       "    <tr>\n",
       "      <th>16</th>\n",
       "      <td>Media and Communications</td>\n",
       "      <td>MediaLSE</td>\n",
       "    </tr>\n",
       "    <tr>\n",
       "      <th>17</th>\n",
       "      <td>Methodology</td>\n",
       "      <td>MethodologyLSE</td>\n",
       "    </tr>\n",
       "    <tr>\n",
       "      <th>18</th>\n",
       "      <td>Philosophy, Logic and Scientific Method</td>\n",
       "      <td>LSEPhilosophy</td>\n",
       "    </tr>\n",
       "    <tr>\n",
       "      <th>19</th>\n",
       "      <td>Psychological and Behavioural Science</td>\n",
       "      <td>LSEBehavioural</td>\n",
       "    </tr>\n",
       "    <tr>\n",
       "      <th>20</th>\n",
       "      <td>Social Policy</td>\n",
       "      <td>LSESocialPolicy</td>\n",
       "    </tr>\n",
       "    <tr>\n",
       "      <th>21</th>\n",
       "      <td>Sociology</td>\n",
       "      <td>LSEsociology</td>\n",
       "    </tr>\n",
       "    <tr>\n",
       "      <th>22</th>\n",
       "      <td>Statistics</td>\n",
       "      <td>LSEStatistics</td>\n",
       "    </tr>\n",
       "  </tbody>\n",
       "</table>\n",
       "</div>"
      ],
      "text/plain": [
       "                                 Department Twitter username\n",
       "0                                Accounting   LSE_Accounting\n",
       "1                              Anthropology  LSEAnthropology\n",
       "2                                 Economics          LSEEcon\n",
       "3                          Economic History        LSEEcHist\n",
       "4                                   Finance       LSEfinance\n",
       "5                            Gender Studies   LSEGenderTweet\n",
       "6                 Geography and Environment     LSEGeography\n",
       "7                                Government    LSEGovernment\n",
       "8                             Health Policy  LSEHealthPolicy\n",
       "9                 International Development           LSE_ID\n",
       "10                    International History       lsehistory\n",
       "11                  International Relations        LSEIRDept\n",
       "12                          Language Centre    lselangcentre\n",
       "13                           LSE Law School           LSELaw\n",
       "14                               Management    LSEManagement\n",
       "15                              Mathematics         LSEMaths\n",
       "16                 Media and Communications         MediaLSE\n",
       "17                              Methodology   MethodologyLSE\n",
       "18  Philosophy, Logic and Scientific Method    LSEPhilosophy\n",
       "19    Psychological and Behavioural Science   LSEBehavioural\n",
       "20                            Social Policy  LSESocialPolicy\n",
       "21                                Sociology     LSEsociology\n",
       "22                               Statistics    LSEStatistics"
      ]
     },
     "execution_count": 10,
     "metadata": {},
     "output_type": "execute_result"
    }
   ],
   "source": [
    "import pandas as pd\n",
    "\n",
    "dept_usernames = pd.DataFrame({\n",
    "    'Department': dept_list,\n",
    "    'Twitter username': usernames\n",
    "})\n",
    "\n",
    "dept_usernames['Department'] = dept_usernames['Department'].str.replace('Department of ', '')\n",
    "dept_usernames"
   ]
  },
  {
   "cell_type": "markdown",
   "id": "e4def6d1",
   "metadata": {},
   "source": [
    "Next, we start identifying what kind of tweets we would like to look at for each department. We want to find out which department has better engagement overall and see what factors contribute to its successful engagement. So, the first step is to find out the overall engagement in favorites and views for regular posts and retweets. The next engagement we will look at is comments(which may be limited), and then we will look at follower counts. All the data analysis will only go back 90 days because this is the limit twitter allows."
   ]
  },
  {
   "cell_type": "markdown",
   "id": "24ef55fd",
   "metadata": {},
   "source": [
    "For the comments, we also have to classify the sentiment of the comment by ourselves, we will use sentiment analysis for this."
   ]
  },
  {
   "cell_type": "code",
   "execution_count": 11,
   "id": "9621592d",
   "metadata": {},
   "outputs": [],
   "source": [
    "with open('keys.json') as f:\n",
    "    keys = json.load(f)\n",
    "\n",
    "bearer_token = keys['twitter']['bearer_token']\n",
    "headers = {\n",
    "    'Authorization': f\"Bearer {bearer_token}\"\n",
    "}"
   ]
  },
  {
   "cell_type": "code",
   "execution_count": 14,
   "id": "e1b5b194",
   "metadata": {},
   "outputs": [
    {
     "data": {
      "text/plain": [
       "'{\"data\":[{\"id\":\"4900666161\",\"name\":\"LSE Accounting\",\"username\":\"LSE_Accounting\"},{\"id\":\"850888387\",\"name\":\"LSE Anthropology\",\"username\":\"LSEAnthropology\"},{\"id\":\"1200727465\",\"name\":\"LSE Department of Economics\",\"username\":\"LSEEcon\"},{\"id\":\"224639696\",\"name\":\"LSE Economic History\",\"username\":\"LSEEcHist\"},{\"id\":\"972257048\",\"name\":\"LSE Finance\",\"username\":\"LSEfinance\"},{\"id\":\"189090262\",\"name\":\"LSE Gender\",\"username\":\"LSEGenderTweet\"},{\"id\":\"240262055\",\"name\":\"LSE Geography & Environment\",\"username\":\"LSEGeography\"},{\"id\":\"303823238\",\"name\":\"LSE Government\",\"username\":\"LSEGovernment\"},{\"id\":\"472009727\",\"name\":\"LSE Health Policy\",\"username\":\"LSEHealthPolicy\"},{\"id\":\"317018025\",\"name\":\"LSE International Development\",\"username\":\"LSE_ID\"},{\"id\":\"253471591\",\"name\":\"LSE International History\",\"username\":\"lsehistory\"},{\"id\":\"237225532\",\"name\":\"LSE Intl Relations\",\"username\":\"LSEIRDept\"},{\"id\":\"179888345\",\"name\":\"LSE Language Centre\",\"username\":\"lselangcentre\"},{\"id\":\"532172035\",\"name\":\"LSE Law School\",\"username\":\"LSELaw\"},{\"id\":\"26465977\",\"name\":\"LSE Management\",\"username\":\"LSEManagement\"},{\"id\":\"3044880371\",\"name\":\"LSE Mathematics\",\"username\":\"LSEMaths\"},{\"id\":\"207534677\",\"name\":\"LSE Media & Communications\",\"username\":\"MediaLSE\"},{\"id\":\"86921024\",\"name\":\"LSE Methodology\",\"username\":\"MethodologyLSE\"},{\"id\":\"904251031\",\"name\":\"LSE Philosophy\",\"username\":\"LSEPhilosophy\"},{\"id\":\"1965000560\",\"name\":\"LSE Behavioural\",\"username\":\"LSEBehavioural\"},{\"id\":\"2472172578\",\"name\":\"LSE Social Policy\",\"username\":\"LSESocialPolicy\"},{\"id\":\"1671486960\",\"name\":\"LSE Sociology\",\"username\":\"LSEsociology\"},{\"id\":\"420282103\",\"name\":\"LSE Statistics\",\"username\":\"LSEStatistics\"}]}'"
      ]
     },
     "execution_count": 14,
     "metadata": {},
     "output_type": "execute_result"
    }
   ],
   "source": [
    "r = requests.get('https://api.twitter.com/2/users/by?usernames=LSE_Accounting,LSEAnthropology,LSEEcon,LSEEcHist,LSEfinance,LSEGenderTweet,LSEGeography,LSEGovernment,LSEHealthPolicy,LSE_ID,lsehistory,LSEIRDept,lselangcentre,LSELaw,LSEManagement,LSEMaths,MediaLSE,MethodologyLSE,LSEPhilosophy,LSEBehavioural,LSESocialPolicy,LSEsociology,LSEStatistics', headers=headers)\n",
    "r.text"
   ]
  },
  {
   "cell_type": "code",
   "execution_count": 30,
   "id": "209dad48",
   "metadata": {},
   "outputs": [],
   "source": [
    "ids = json.loads(r.text)\n",
    "ids = ids['data']\n",
    "\n",
    "dept_ids = []\n",
    "for i in range(0, len(ids)):\n",
    "    idno = ids[i]['id']\n",
    "    dept_ids.append(idno)\n",
    "\n",
    "dept_usernames['Twitter ID'] = dept_ids"
   ]
  },
  {
   "cell_type": "code",
   "execution_count": 31,
   "id": "01247278",
   "metadata": {},
   "outputs": [
    {
     "data": {
      "text/html": [
       "<div>\n",
       "<style scoped>\n",
       "    .dataframe tbody tr th:only-of-type {\n",
       "        vertical-align: middle;\n",
       "    }\n",
       "\n",
       "    .dataframe tbody tr th {\n",
       "        vertical-align: top;\n",
       "    }\n",
       "\n",
       "    .dataframe thead th {\n",
       "        text-align: right;\n",
       "    }\n",
       "</style>\n",
       "<table border=\"1\" class=\"dataframe\">\n",
       "  <thead>\n",
       "    <tr style=\"text-align: right;\">\n",
       "      <th></th>\n",
       "      <th>Department</th>\n",
       "      <th>Twitter username</th>\n",
       "      <th>Twitter ID</th>\n",
       "    </tr>\n",
       "  </thead>\n",
       "  <tbody>\n",
       "    <tr>\n",
       "      <th>0</th>\n",
       "      <td>Accounting</td>\n",
       "      <td>LSE_Accounting</td>\n",
       "      <td>4900666161</td>\n",
       "    </tr>\n",
       "    <tr>\n",
       "      <th>1</th>\n",
       "      <td>Anthropology</td>\n",
       "      <td>LSEAnthropology</td>\n",
       "      <td>850888387</td>\n",
       "    </tr>\n",
       "    <tr>\n",
       "      <th>2</th>\n",
       "      <td>Economics</td>\n",
       "      <td>LSEEcon</td>\n",
       "      <td>1200727465</td>\n",
       "    </tr>\n",
       "    <tr>\n",
       "      <th>3</th>\n",
       "      <td>Economic History</td>\n",
       "      <td>LSEEcHist</td>\n",
       "      <td>224639696</td>\n",
       "    </tr>\n",
       "    <tr>\n",
       "      <th>4</th>\n",
       "      <td>Finance</td>\n",
       "      <td>LSEfinance</td>\n",
       "      <td>972257048</td>\n",
       "    </tr>\n",
       "    <tr>\n",
       "      <th>5</th>\n",
       "      <td>Gender Studies</td>\n",
       "      <td>LSEGenderTweet</td>\n",
       "      <td>189090262</td>\n",
       "    </tr>\n",
       "    <tr>\n",
       "      <th>6</th>\n",
       "      <td>Geography and Environment</td>\n",
       "      <td>LSEGeography</td>\n",
       "      <td>240262055</td>\n",
       "    </tr>\n",
       "    <tr>\n",
       "      <th>7</th>\n",
       "      <td>Government</td>\n",
       "      <td>LSEGovernment</td>\n",
       "      <td>303823238</td>\n",
       "    </tr>\n",
       "    <tr>\n",
       "      <th>8</th>\n",
       "      <td>Health Policy</td>\n",
       "      <td>LSEHealthPolicy</td>\n",
       "      <td>472009727</td>\n",
       "    </tr>\n",
       "    <tr>\n",
       "      <th>9</th>\n",
       "      <td>International Development</td>\n",
       "      <td>LSE_ID</td>\n",
       "      <td>317018025</td>\n",
       "    </tr>\n",
       "    <tr>\n",
       "      <th>10</th>\n",
       "      <td>International History</td>\n",
       "      <td>lsehistory</td>\n",
       "      <td>253471591</td>\n",
       "    </tr>\n",
       "    <tr>\n",
       "      <th>11</th>\n",
       "      <td>International Relations</td>\n",
       "      <td>LSEIRDept</td>\n",
       "      <td>237225532</td>\n",
       "    </tr>\n",
       "    <tr>\n",
       "      <th>12</th>\n",
       "      <td>Language Centre</td>\n",
       "      <td>lselangcentre</td>\n",
       "      <td>179888345</td>\n",
       "    </tr>\n",
       "    <tr>\n",
       "      <th>13</th>\n",
       "      <td>LSE Law School</td>\n",
       "      <td>LSELaw</td>\n",
       "      <td>532172035</td>\n",
       "    </tr>\n",
       "    <tr>\n",
       "      <th>14</th>\n",
       "      <td>Management</td>\n",
       "      <td>LSEManagement</td>\n",
       "      <td>26465977</td>\n",
       "    </tr>\n",
       "    <tr>\n",
       "      <th>15</th>\n",
       "      <td>Mathematics</td>\n",
       "      <td>LSEMaths</td>\n",
       "      <td>3044880371</td>\n",
       "    </tr>\n",
       "    <tr>\n",
       "      <th>16</th>\n",
       "      <td>Media and Communications</td>\n",
       "      <td>MediaLSE</td>\n",
       "      <td>207534677</td>\n",
       "    </tr>\n",
       "    <tr>\n",
       "      <th>17</th>\n",
       "      <td>Methodology</td>\n",
       "      <td>MethodologyLSE</td>\n",
       "      <td>86921024</td>\n",
       "    </tr>\n",
       "    <tr>\n",
       "      <th>18</th>\n",
       "      <td>Philosophy, Logic and Scientific Method</td>\n",
       "      <td>LSEPhilosophy</td>\n",
       "      <td>904251031</td>\n",
       "    </tr>\n",
       "    <tr>\n",
       "      <th>19</th>\n",
       "      <td>Psychological and Behavioural Science</td>\n",
       "      <td>LSEBehavioural</td>\n",
       "      <td>1965000560</td>\n",
       "    </tr>\n",
       "    <tr>\n",
       "      <th>20</th>\n",
       "      <td>Social Policy</td>\n",
       "      <td>LSESocialPolicy</td>\n",
       "      <td>2472172578</td>\n",
       "    </tr>\n",
       "    <tr>\n",
       "      <th>21</th>\n",
       "      <td>Sociology</td>\n",
       "      <td>LSEsociology</td>\n",
       "      <td>1671486960</td>\n",
       "    </tr>\n",
       "    <tr>\n",
       "      <th>22</th>\n",
       "      <td>Statistics</td>\n",
       "      <td>LSEStatistics</td>\n",
       "      <td>420282103</td>\n",
       "    </tr>\n",
       "  </tbody>\n",
       "</table>\n",
       "</div>"
      ],
      "text/plain": [
       "                                 Department Twitter username  Twitter ID\n",
       "0                                Accounting   LSE_Accounting  4900666161\n",
       "1                              Anthropology  LSEAnthropology   850888387\n",
       "2                                 Economics          LSEEcon  1200727465\n",
       "3                          Economic History        LSEEcHist   224639696\n",
       "4                                   Finance       LSEfinance   972257048\n",
       "5                            Gender Studies   LSEGenderTweet   189090262\n",
       "6                 Geography and Environment     LSEGeography   240262055\n",
       "7                                Government    LSEGovernment   303823238\n",
       "8                             Health Policy  LSEHealthPolicy   472009727\n",
       "9                 International Development           LSE_ID   317018025\n",
       "10                    International History       lsehistory   253471591\n",
       "11                  International Relations        LSEIRDept   237225532\n",
       "12                          Language Centre    lselangcentre   179888345\n",
       "13                           LSE Law School           LSELaw   532172035\n",
       "14                               Management    LSEManagement    26465977\n",
       "15                              Mathematics         LSEMaths  3044880371\n",
       "16                 Media and Communications         MediaLSE   207534677\n",
       "17                              Methodology   MethodologyLSE    86921024\n",
       "18  Philosophy, Logic and Scientific Method    LSEPhilosophy   904251031\n",
       "19    Psychological and Behavioural Science   LSEBehavioural  1965000560\n",
       "20                            Social Policy  LSESocialPolicy  2472172578\n",
       "21                                Sociology     LSEsociology  1671486960\n",
       "22                               Statistics    LSEStatistics   420282103"
      ]
     },
     "execution_count": 31,
     "metadata": {},
     "output_type": "execute_result"
    }
   ],
   "source": [
    "dept_usernames"
   ]
  },
  {
   "cell_type": "code",
   "execution_count": 106,
   "id": "2070cc21",
   "metadata": {},
   "outputs": [],
   "source": [
    "r = requests.get('https://api.twitter.com/2/users/4900666161/tweets', headers=headers)"
   ]
  },
  {
   "cell_type": "code",
   "execution_count": 108,
   "id": "6f926e13",
   "metadata": {},
   "outputs": [
    {
     "data": {
      "text/plain": [
       "[{'id': '1506004918016094208',\n",
       "  'text': 'RT @OnlineLSE: Develop a financial and managerial accounting toolkit to inform business decision-making and enhance organisational performa…'},\n",
       " {'id': '1502055596488540164',\n",
       "  'text': 'RT @StudyLSE: Our in-person LSE Open Day is taking place on 6 April 2022!\\n\\nBookings are now open for all our events with academic departmen…'},\n",
       " {'id': '1501594873509691393',\n",
       "  'text': 'The second edition of the Erasmus Accounting Workshop @ErasmusAccount will be held 18 March with Dr Aneesh Raghunandan looking at gender pay gap misreporting. #accountingworkshop #corporatedisclosure #GenderPayGap #misreporting #CSR https://t.co/GvDKYY3bx3'},\n",
       " {'id': '1498763109401612296',\n",
       "  'text': 'RT @StudyLSE: Our in-person LSE Open Day is taking place on 6 April 2022!\\n\\nBookings are now open for all our events with academic departmen…'},\n",
       " {'id': '1498762781457321986',\n",
       "  'text': 'RT @StudyLSE: Join our MRes/PhD in Accounting information session for prospective students on Monday 14 March with @LSE_Accounting for:\\n\\n✅…'},\n",
       " {'id': '1493552844854673416',\n",
       "  'text': 'Congratulations to Prof. Alnoor Bhimani - awarded the 2021 British Accounting &amp; Finance Association Lifetime Achievement Award for substantial contributions to UK academic accounting &amp; finance.  @lsenew @LSEforBusiness @BAFA_UK #partoflse @AlnoorBhimani #accountingandfinance https://t.co/kTid7WSVSL'},\n",
       " {'id': '1491135328870342656',\n",
       "  'text': \"Today's INSIGHTS @LSE_Accounting welcomed Dr Suzanne Morsfield, Global Head of Accounting Solutions @Lukka to discuss financial reporting and accounting standards for the cyptoverse. #financialreporting #Cryptoverse #partoflse #studyatlse The evening was chaired by @kenmode https://t.co/vNQKB2oted\"},\n",
       " {'id': '1488887891732357126',\n",
       "  'text': 'Congratulations to #LSEAccounting alum Musa Afandiyev (MSc Accounting, Organisations &amp; Institutions 2015) who received the Business and Innovation award at the recent British Council Study UK Alumni Award Ceremony in Azerbaijan @azbritish #UKAlumniAwards #partoflse @LSEalumni https://t.co/FrxNNpJw7X'},\n",
       " {'id': '1488833208221413378',\n",
       "  'text': 'RT @LSESummerSchool: 🤔 Do you have questions about Summer School?\\nJoin us TODAY at 2pm (GMT/UTC) for our webinar information session to lea…'},\n",
       " {'id': '1488519026020171784',\n",
       "  'text': 'As we enter the Year of the Tiger we would like to wish our students, alumni &amp; Friends a Happy Lunar New Year! #partoflse May this new year be filled with happiness, prosperity, and many precious moments with your loved ones. Happy Lunar New Year 2022! https://t.co/dpiSHKtWhA'}]"
      ]
     },
     "execution_count": 108,
     "metadata": {},
     "output_type": "execute_result"
    }
   ],
   "source": [
    "ad = json.loads(r.text)\n",
    "ad = ad['data']\n",
    "ad"
   ]
  },
  {
   "cell_type": "code",
   "execution_count": 15,
   "id": "42233cae",
   "metadata": {},
   "outputs": [],
   "source": [
    "#Experiment 1 - Department of Accounting"
   ]
  },
  {
   "cell_type": "code",
   "execution_count": 83,
   "id": "83c5184e",
   "metadata": {},
   "outputs": [],
   "source": [
    "ad_tweets = []\n",
    "ad_tweet_ids = []\n",
    "departments = []\n",
    "\n",
    "for i in range(0, len(ad)):\n",
    "    dept_name = 'Accounting'\n",
    "    adtweetid = ad[i]['id']\n",
    "    tweet = ad[i]['text']\n",
    "    departments.append(dept_name)\n",
    "    ad_tweets.append(tweet)\n",
    "    ad_tweet_ids.append(adtweetid)"
   ]
  },
  {
   "cell_type": "code",
   "execution_count": 85,
   "id": "f9268f06",
   "metadata": {},
   "outputs": [
    {
     "data": {
      "text/html": [
       "<div>\n",
       "<style scoped>\n",
       "    .dataframe tbody tr th:only-of-type {\n",
       "        vertical-align: middle;\n",
       "    }\n",
       "\n",
       "    .dataframe tbody tr th {\n",
       "        vertical-align: top;\n",
       "    }\n",
       "\n",
       "    .dataframe thead th {\n",
       "        text-align: right;\n",
       "    }\n",
       "</style>\n",
       "<table border=\"1\" class=\"dataframe\">\n",
       "  <thead>\n",
       "    <tr style=\"text-align: right;\">\n",
       "      <th></th>\n",
       "      <th>Tweet ID</th>\n",
       "      <th>Department</th>\n",
       "      <th>Tweets</th>\n",
       "    </tr>\n",
       "  </thead>\n",
       "  <tbody>\n",
       "    <tr>\n",
       "      <th>0</th>\n",
       "      <td>1506004918016094208</td>\n",
       "      <td>Accounting</td>\n",
       "      <td>RT @OnlineLSE: Develop a financial and manager...</td>\n",
       "    </tr>\n",
       "    <tr>\n",
       "      <th>1</th>\n",
       "      <td>1502055596488540164</td>\n",
       "      <td>Accounting</td>\n",
       "      <td>RT @StudyLSE: Our in-person LSE Open Day is ta...</td>\n",
       "    </tr>\n",
       "    <tr>\n",
       "      <th>2</th>\n",
       "      <td>1501594873509691393</td>\n",
       "      <td>Accounting</td>\n",
       "      <td>The second edition of the Erasmus Accounting W...</td>\n",
       "    </tr>\n",
       "    <tr>\n",
       "      <th>3</th>\n",
       "      <td>1498763109401612296</td>\n",
       "      <td>Accounting</td>\n",
       "      <td>RT @StudyLSE: Our in-person LSE Open Day is ta...</td>\n",
       "    </tr>\n",
       "    <tr>\n",
       "      <th>4</th>\n",
       "      <td>1498762781457321986</td>\n",
       "      <td>Accounting</td>\n",
       "      <td>RT @StudyLSE: Join our MRes/PhD in Accounting ...</td>\n",
       "    </tr>\n",
       "    <tr>\n",
       "      <th>5</th>\n",
       "      <td>1493552844854673416</td>\n",
       "      <td>Accounting</td>\n",
       "      <td>Congratulations to Prof. Alnoor Bhimani - awar...</td>\n",
       "    </tr>\n",
       "    <tr>\n",
       "      <th>6</th>\n",
       "      <td>1491135328870342656</td>\n",
       "      <td>Accounting</td>\n",
       "      <td>Today's INSIGHTS @LSE_Accounting welcomed Dr S...</td>\n",
       "    </tr>\n",
       "    <tr>\n",
       "      <th>7</th>\n",
       "      <td>1488887891732357126</td>\n",
       "      <td>Accounting</td>\n",
       "      <td>Congratulations to #LSEAccounting alum Musa Af...</td>\n",
       "    </tr>\n",
       "    <tr>\n",
       "      <th>8</th>\n",
       "      <td>1488833208221413378</td>\n",
       "      <td>Accounting</td>\n",
       "      <td>RT @LSESummerSchool: 🤔 Do you have questions a...</td>\n",
       "    </tr>\n",
       "    <tr>\n",
       "      <th>9</th>\n",
       "      <td>1488519026020171784</td>\n",
       "      <td>Accounting</td>\n",
       "      <td>As we enter the Year of the Tiger we would lik...</td>\n",
       "    </tr>\n",
       "  </tbody>\n",
       "</table>\n",
       "</div>"
      ],
      "text/plain": [
       "              Tweet ID  Department  \\\n",
       "0  1506004918016094208  Accounting   \n",
       "1  1502055596488540164  Accounting   \n",
       "2  1501594873509691393  Accounting   \n",
       "3  1498763109401612296  Accounting   \n",
       "4  1498762781457321986  Accounting   \n",
       "5  1493552844854673416  Accounting   \n",
       "6  1491135328870342656  Accounting   \n",
       "7  1488887891732357126  Accounting   \n",
       "8  1488833208221413378  Accounting   \n",
       "9  1488519026020171784  Accounting   \n",
       "\n",
       "                                              Tweets  \n",
       "0  RT @OnlineLSE: Develop a financial and manager...  \n",
       "1  RT @StudyLSE: Our in-person LSE Open Day is ta...  \n",
       "2  The second edition of the Erasmus Accounting W...  \n",
       "3  RT @StudyLSE: Our in-person LSE Open Day is ta...  \n",
       "4  RT @StudyLSE: Join our MRes/PhD in Accounting ...  \n",
       "5  Congratulations to Prof. Alnoor Bhimani - awar...  \n",
       "6  Today's INSIGHTS @LSE_Accounting welcomed Dr S...  \n",
       "7  Congratulations to #LSEAccounting alum Musa Af...  \n",
       "8  RT @LSESummerSchool: 🤔 Do you have questions a...  \n",
       "9  As we enter the Year of the Tiger we would lik...  "
      ]
     },
     "execution_count": 85,
     "metadata": {},
     "output_type": "execute_result"
    }
   ],
   "source": [
    "acc_dept = pd.DataFrame({\n",
    "    'Tweet ID': ad_tweet_ids,\n",
    "    'Department': departments,\n",
    "    'Tweets': ad_tweets\n",
    "})\n",
    "\n",
    "acc_dept"
   ]
  },
  {
   "cell_type": "markdown",
   "id": "ebbbe456",
   "metadata": {},
   "source": [
    "Possible graphs to draw:\n",
    "* Departments and their retweet count (over the month)\n",
    "* Departments and their like count (over the month)\n",
    "* Departments and their views count (over the month)\n",
    "* Retweet engagements vs normal tweet engagements (over the month)\n",
    "* Overall following count vs follower to engagement ratios (over the month)\n",
    "* Following growth vs comment sentiment (over the month)"
   ]
  },
  {
   "cell_type": "code",
   "execution_count": 110,
   "id": "42693430",
   "metadata": {},
   "outputs": [],
   "source": [
    "#Classifying posts into retweets and regular posts\n",
    "post_class = []\n",
    "\n",
    "for i in range(0, len(acc_dept)):\n",
    "    first_char = acc_dept['Tweets'][i].strip()[0:2]\n",
    "    if first_char == 'RT':\n",
    "        post_class.append('Retweet')\n",
    "    else:\n",
    "        post_class.append('Post')\n",
    "        \n",
    "acc_dept['Tweet type'] = post_class"
   ]
  },
  {
   "cell_type": "markdown",
   "id": "4ff322f5",
   "metadata": {},
   "source": [
    "Parameters needed: Impressions, retweets, likes, replies, user profile clicks"
   ]
  },
  {
   "cell_type": "code",
   "execution_count": 118,
   "id": "65f81917",
   "metadata": {},
   "outputs": [],
   "source": [
    "r = requests.get('https://api.twitter.com/2/tweets?ids=1204084171334832128&impression_count,retweet_count,like_count,reply_count,user_profile_clicks&media.fields=non_public_metrics', headers=headers)"
   ]
  },
  {
   "cell_type": "code",
   "execution_count": 119,
   "id": "594c6200",
   "metadata": {},
   "outputs": [],
   "source": [
    "tweet_test = json.loads(r.text)"
   ]
  },
  {
   "cell_type": "code",
   "execution_count": 120,
   "id": "4c74d55e",
   "metadata": {},
   "outputs": [
    {
     "data": {
      "text/plain": [
       "{'errors': [{'parameters': {'impression_count,retweet_count,like_count,reply_count,user_profile_clicks': ['']},\n",
       "   'message': 'The query parameter [impression_count,retweet_count,like_count,reply_count,user_profile_clicks] is not one of [ids,expansions,tweet.fields,media.fields,poll.fields,place.fields,user.fields]'}],\n",
       " 'title': 'Invalid Request',\n",
       " 'detail': 'One or more parameters to your request was invalid.',\n",
       " 'type': 'https://api.twitter.com/2/problems/invalid-request'}"
      ]
     },
     "execution_count": 120,
     "metadata": {},
     "output_type": "execute_result"
    }
   ],
   "source": [
    "tweet_test"
   ]
  },
  {
   "cell_type": "code",
   "execution_count": 69,
   "id": "7a999659",
   "metadata": {},
   "outputs": [
    {
     "data": {
      "text/plain": [
       "<Response [200]>"
      ]
     },
     "execution_count": 69,
     "metadata": {},
     "output_type": "execute_result"
    }
   ],
   "source": [
    "acc_dept = pd.DataFrame({\n",
    "    'Tweet ID': tweet_ids,\n",
    "    'Tweets': ad_tweets,\n",
    "    'Views':\n",
    "    'Favorites': \n",
    "    'Comments':\n",
    "    'Retweet count':\n",
    "})\n",
    "\n",
    "acc_dept"
   ]
  },
  {
   "cell_type": "code",
   "execution_count": null,
   "id": "042fa23a",
   "metadata": {},
   "outputs": [],
   "source": []
  },
  {
   "cell_type": "code",
   "execution_count": null,
   "id": "6148c20e",
   "metadata": {},
   "outputs": [],
   "source": [
    "dept_df = pd.DataFrame({\n",
    "    'Department': dept_list,\n",
    "    'Twitter username': usernames,\n",
    "    'Follow count': \n",
    "    'Average views':\n",
    "    'Average likes':\n",
    "    'Average replies': \n",
    "    'Average retweet':\n",
    "})"
   ]
  },
  {
   "cell_type": "code",
   "execution_count": null,
   "id": "a1db89ff",
   "metadata": {},
   "outputs": [],
   "source": []
  }
 ],
 "metadata": {
  "kernelspec": {
   "display_name": "Python 3 (ipykernel)",
   "language": "python",
   "name": "python3"
  },
  "language_info": {
   "codemirror_mode": {
    "name": "ipython",
    "version": 3
   },
   "file_extension": ".py",
   "mimetype": "text/x-python",
   "name": "python",
   "nbconvert_exporter": "python",
   "pygments_lexer": "ipython3",
   "version": "3.9.7"
  }
 },
 "nbformat": 4,
 "nbformat_minor": 5
}
